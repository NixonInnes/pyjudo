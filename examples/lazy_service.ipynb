{
 "cells": [
  {
   "cell_type": "markdown",
   "metadata": {},
   "source": [
    "# Lazy Services\n",
    "PyJudo lets you define dependencies as `Lazy`. This means that the resolution and instanciation of the service (if transient and/or uninitialised) is deferred until the service is accessed.\n",
    "This allows for finer control over the creation of dependencies, including lazily passing keyword arguments. For example, if you had an `Manager` which creates a `Service`, which requires a `service_input` that is unknown on the creation of the `Manager`:\n",
    "\n",
    "```python\n",
    "class Manager(IManager):\n",
    "    def create_service(service_input) -> Service:\n",
    "        return Service(service_input)\n",
    "```\n",
    "\n",
    "You could give the `Manager` the `ServiceContainer` and manually get a new instance of `Service` from it, passing a the `service_input`:\n",
    "\n",
    "```python\n",
    "class Manager(IManager):\n",
    "    def __init__(self, services: IServiceContainer):\n",
    "        self._services = services\n",
    "    \n",
    "    def create_service(service_input) -> Service:\n",
    "        return self._services[IService](service_input)\n",
    "```\n",
    "\n",
    "However, I think that passing the entire container to a service has a weird smell...\n",
    "\n",
    "With `Lazy` services, you can pass the `Lazy[IService]` to the `Manager`, and lazily create `Service` instances:\n",
    "\n",
    "```python\n",
    "class EntityManager(IEntityManager):\n",
    "    def __init__(self, lazy_service: Lazy[IService]):\n",
    "        self._lazy_service = lazy_service\n",
    "    \n",
    "    def create_service(service_input):\n",
    "        return self._lazy_service(service_input)\n",
    "```\n",
    "\n",
    "\n",
    "Some fairly basic examples are set out below:"
   ]
  },
  {
   "cell_type": "code",
   "execution_count": 1,
   "metadata": {},
   "outputs": [],
   "source": [
    "from abc import ABC, abstractmethod\n",
    "\n",
    "from pyjudo import ServiceContainer, Lazy"
   ]
  },
  {
   "cell_type": "code",
   "execution_count": 2,
   "metadata": {},
   "outputs": [],
   "source": [
    "# Create some service interfaces and implementations\n",
    "\n",
    "# Interfaces\n",
    "class IMyServiceA(ABC):\n",
    "    test: str\n",
    "    \n",
    "    @abstractmethod\n",
    "    def show_a(self):\n",
    "        pass\n",
    "\n",
    "class IMyServiceB(ABC):\n",
    "    @abstractmethod\n",
    "    def show_b(self):\n",
    "        pass\n",
    "\n",
    "# Implementations\n",
    "class MyServiceA(IMyServiceA):\n",
    "    def __init__(self, text: str = \"Hello, World!\"):\n",
    "        self.text = text\n",
    "\n",
    "    def show_a(self):\n",
    "        print(self.text)\n",
    "\n",
    "# Note: MyServiceB depends on a Lazy MyServiceA\n",
    "class MyServiceB(IMyServiceB):\n",
    "    def __init__(self, service_a: Lazy[IMyServiceA]):\n",
    "        self.service_a = service_a\n",
    "    \n",
    "    def show_b(self):\n",
    "        print(\"MyServiceB doing something else\")"
   ]
  },
  {
   "cell_type": "code",
   "execution_count": 3,
   "metadata": {},
   "outputs": [
    {
     "data": {
      "text/plain": [
       "<pyjudo.service_container.ServiceContainer at 0x7fbd301eeba0>"
      ]
     },
     "execution_count": 3,
     "metadata": {},
     "output_type": "execute_result"
    }
   ],
   "source": [
    "# Create a service container and add the services\n",
    "\n",
    "services = ServiceContainer()\n",
    "\n",
    "services.add_transient(IMyServiceA, MyServiceA)\n",
    "services.add_transient(IMyServiceB, MyServiceB)"
   ]
  },
  {
   "cell_type": "code",
   "execution_count": 4,
   "metadata": {},
   "outputs": [],
   "source": [
    "# Resolve an instance of MyServiceB (which depends on MyServiceA)\n",
    "\n",
    "b1 = services.get(IMyServiceB)"
   ]
  },
  {
   "cell_type": "code",
   "execution_count": 5,
   "metadata": {},
   "outputs": [
    {
     "name": "stdout",
     "output_type": "stream",
     "text": [
      "MyServiceB doing something else\n",
      "Hello, World!\n"
     ]
    }
   ],
   "source": [
    "# Use ServiceA component from ServiceB\n",
    "b1.show_b()\n",
    "b1.service_a.show_a()"
   ]
  },
  {
   "cell_type": "code",
   "execution_count": 6,
   "metadata": {},
   "outputs": [],
   "source": [
    "b2 = services.get(IMyServiceB)"
   ]
  },
  {
   "cell_type": "code",
   "execution_count": 7,
   "metadata": {},
   "outputs": [
    {
     "name": "stdout",
     "output_type": "stream",
     "text": [
      "I have been overriden\n"
     ]
    }
   ],
   "source": [
    "# Use ServiceA component from ServiceB\n",
    "# This time, before accessing any attributes, call it with some overrides\n",
    "\n",
    "b2.service_a(text=\"I have been overriden\")\n",
    "b2.service_a.show_a()"
   ]
  },
  {
   "cell_type": "code",
   "execution_count": 8,
   "metadata": {},
   "outputs": [],
   "source": [
    "# Create some more service interfaces and implementations\n",
    "# This time ServiceC has an unresolvable argument without a default value\n",
    "\n",
    "# Interfaces\n",
    "class IMyServiceC(ABC):\n",
    "    test: str\n",
    "    \n",
    "    @abstractmethod\n",
    "    def show_c(self):\n",
    "        pass\n",
    "\n",
    "class IMyServiceD(ABC):\n",
    "    @abstractmethod\n",
    "    def show_d(self):\n",
    "        pass\n",
    "\n",
    "# Implementations\n",
    "class MyServiceC(IMyServiceC):\n",
    "    def __init__(self, text: str):\n",
    "        self.text = text\n",
    "\n",
    "    def show_c(self):\n",
    "        print(self.text)\n",
    "\n",
    "# Note: MyServiceB depends on a Lazy MyServiceA\n",
    "class MyServiceD(IMyServiceD):\n",
    "    def __init__(self, service_c: Lazy[IMyServiceC]):\n",
    "        self.service_c = service_c\n",
    "    \n",
    "    def show_d(self):\n",
    "        print(\"MyServiceD doing another thing\")\n",
    "        self.service_c.show_c()"
   ]
  },
  {
   "cell_type": "code",
   "execution_count": 9,
   "metadata": {},
   "outputs": [
    {
     "data": {
      "text/plain": [
       "<pyjudo.service_container.ServiceContainer at 0x7fbd301eeba0>"
      ]
     },
     "execution_count": 9,
     "metadata": {},
     "output_type": "execute_result"
    }
   ],
   "source": [
    "services.add_transient(IMyServiceC, MyServiceC)\n",
    "services.add_transient(IMyServiceD, MyServiceD)"
   ]
  },
  {
   "cell_type": "code",
   "execution_count": 10,
   "metadata": {},
   "outputs": [],
   "source": [
    "d1 = services.get(IMyServiceD)"
   ]
  },
  {
   "cell_type": "code",
   "execution_count": 11,
   "metadata": {},
   "outputs": [
    {
     "name": "stdout",
     "output_type": "stream",
     "text": [
      "MyServiceD doing another thing\n",
      "Unable to resolve dependency 'text' for '<class '__main__.MyServiceC'>'\n"
     ]
    }
   ],
   "source": [
    "# This should cause an exception\n",
    "# This is because ServiceD accesses ServiceC for the first time \n",
    "#  without has not been passed a 'text' argument\n",
    "\n",
    "from pyjudo.exceptions import ServicesResolutionError\n",
    "\n",
    "try:\n",
    "    d1.show_d() # Note: This uses the service_c component\n",
    "except ServicesResolutionError as e:\n",
    "    print(e)"
   ]
  },
  {
   "cell_type": "code",
   "execution_count": 12,
   "metadata": {},
   "outputs": [
    {
     "name": "stdout",
     "output_type": "stream",
     "text": [
      "MyServiceD doing another thing\n",
      "I now work fine\n"
     ]
    }
   ],
   "source": [
    "# With lazy services, you can pass the arguments when you access the service\n",
    "\n",
    "d2 = services.get(IMyServiceD)\n",
    "\n",
    "d2.service_c(text=\"I now work fine\")\n",
    "d2.show_d()"
   ]
  },
  {
   "cell_type": "code",
   "execution_count": 13,
   "metadata": {},
   "outputs": [],
   "source": [
    "# Using the Lazy mechanism, you can pass in dependencies to services,\n",
    "# and only resolve their dependencies when they are accessed. This can be useful\n",
    "# if you wan to pass in arguments to a service that are not known at the time of registration"
   ]
  }
 ],
 "metadata": {
  "kernelspec": {
   "display_name": ".venv",
   "language": "python",
   "name": "python3"
  },
  "language_info": {
   "codemirror_mode": {
    "name": "ipython",
    "version": 3
   },
   "file_extension": ".py",
   "mimetype": "text/x-python",
   "name": "python",
   "nbconvert_exporter": "python",
   "pygments_lexer": "ipython3",
   "version": "3.12.6"
  }
 },
 "nbformat": 4,
 "nbformat_minor": 2
}
